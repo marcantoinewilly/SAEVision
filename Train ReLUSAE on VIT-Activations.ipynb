{
 "cells": [
  {
   "cell_type": "code",
   "execution_count": 3,
   "id": "e6e8de99",
   "metadata": {},
   "outputs": [],
   "source": [
    "import torch\n",
    "from AutoEncoders import ReLUSAE\n",
    "from Utils import createImageDataloader\n",
    "from transformers import CLIPVisionModel"
   ]
  },
  {
   "cell_type": "code",
   "execution_count": null,
   "id": "ec4bbcbe",
   "metadata": {},
   "outputs": [],
   "source": [
    "loader = createImageDataloader(\n",
    "    \"/Users/mawy/Desktop/Square 512\",\n",
    "    model_name=\"openai/clip-vit-base-patch32\",\n",
    "    batch_size=1,\n",
    "    shuffle=False,\n",
    ")\n",
    "\n",
    "model = CLIPVisionModel.from_pretrained(\"openai/clip-vit-base-patch32\").eval()\n",
    "model.config.output_hidden_states = True\n",
    "\n",
    "SAE = ReLUSAE(d=768, n=512, lam=1)"
   ]
  },
  {
   "cell_type": "code",
   "execution_count": null,
   "id": "379461a1",
   "metadata": {},
   "outputs": [],
   "source": []
  },
  {
   "cell_type": "code",
   "execution_count": null,
   "id": "00260716",
   "metadata": {},
   "outputs": [],
   "source": []
  }
 ],
 "metadata": {
  "kernelspec": {
   "display_name": "thesis",
   "language": "python",
   "name": "python3"
  },
  "language_info": {
   "codemirror_mode": {
    "name": "ipython",
    "version": 3
   },
   "file_extension": ".py",
   "mimetype": "text/x-python",
   "name": "python",
   "nbconvert_exporter": "python",
   "pygments_lexer": "ipython3",
   "version": "3.10.16"
  }
 },
 "nbformat": 4,
 "nbformat_minor": 5
}
