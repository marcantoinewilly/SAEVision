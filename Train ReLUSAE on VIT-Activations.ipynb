{
 "cells": [
  {
   "cell_type": "code",
   "execution_count": null,
   "id": "e6e8de99",
   "metadata": {},
   "outputs": [],
   "source": [
    "from AutoEncoders import ReLUSAE\n",
    "from Utils import createImageDataloader\n",
    "from transformers import CLIPVisionModel\n",
    "import torch\n",
    "from torch.optim import Adam"
   ]
  },
  {
   "cell_type": "code",
   "execution_count": null,
   "id": "ec4bbcbe",
   "metadata": {},
   "outputs": [],
   "source": [
    "loader = createImageDataloader(\"/Users/mawy/Desktop/Square 512\", model_name=\"openai/clip-vit-base-patch32\", batch_size=1, shuffle=False)\n",
    "\n",
    "model = CLIPVisionModel.from_pretrained(\"openai/clip-vit-base-patch32\").eval()\n",
    "model.config.output_hidden_states = True\n",
    "\n",
    "SAE = ReLUSAE(d=768, n=512, lam=1)\n",
    "# FIX FINDBIAS FUNCTION - THIS IS COMPLETELY BROKEN"
   ]
  },
  {
   "cell_type": "code",
   "execution_count": null,
   "id": "379461a1",
   "metadata": {},
   "outputs": [],
   "source": [
    "epochs = 1 # TEST RUN\n",
    "optimizer = Adam(SAE.parameters(), lr=1e-3)\n",
    "\n",
    "for epoch in range(epochs):\n",
    "    for images in loader:\n",
    "        with torch.no_grad():\n",
    "            \n",
    "            outputs = model(pixel_values = images).hidden_states[-1][:,0]\n",
    "\n",
    "        loss = SAE.loss(outputs)\n",
    "\n",
    "        optimizer.zero_grad()\n",
    "        loss.backward()\n",
    "        optimizer.step()\n",
    "        SAE.renorm()\n",
    "\n",
    "    print(f\"Epoch [{epoch+1}/{epochs}], Loss: {loss.item():.4f}\")"
   ]
  },
  {
   "cell_type": "code",
   "execution_count": null,
   "id": "00260716",
   "metadata": {},
   "outputs": [],
   "source": []
  }
 ],
 "metadata": {
  "kernelspec": {
   "display_name": "thesis",
   "language": "python",
   "name": "python3"
  },
  "language_info": {
   "codemirror_mode": {
    "name": "ipython",
    "version": 3
   },
   "file_extension": ".py",
   "mimetype": "text/x-python",
   "name": "python",
   "nbconvert_exporter": "python",
   "pygments_lexer": "ipython3",
   "version": "3.10.16"
  }
 },
 "nbformat": 4,
 "nbformat_minor": 5
}
